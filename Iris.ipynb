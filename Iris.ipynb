{
  "nbformat": 4,
  "nbformat_minor": 0,
  "metadata": {
    "colab": {
      "name": "Iris.ipynb",
      "provenance": [],
      "collapsed_sections": []
    },
    "kernelspec": {
      "name": "python3",
      "display_name": "Python 3"
    },
    "language_info": {
      "name": "python"
    }
  },
  "cells": [
    {
      "cell_type": "code",
      "metadata": {
        "id": "yXR-bp5pgAq6"
      },
      "source": [
        "import pandas as pd\n",
        "import seaborn as sns\n",
        "import numpy as np"
      ],
      "execution_count": 63,
      "outputs": []
    },
    {
      "cell_type": "code",
      "metadata": {
        "id": "kqL4X91-gJpb"
      },
      "source": [
        "dataset = pd.read_csv('Iris.csv')"
      ],
      "execution_count": 64,
      "outputs": []
    },
    {
      "cell_type": "code",
      "metadata": {
        "id": "uGThqJq5gKmr"
      },
      "source": [
        "X = dataset.iloc[:,:4].values\n",
        "Y = dataset.iloc[:,4].values"
      ],
      "execution_count": 65,
      "outputs": []
    },
    {
      "cell_type": "code",
      "metadata": {
        "id": "NJi4SOe7hJ1r"
      },
      "source": [
        "from sklearn.model_selection import train_test_split\n",
        " \n",
        "x_train, x_test, y_train, y_test = train_test_split(X, Y, test_size=0.15, random_state=7)"
      ],
      "execution_count": 66,
      "outputs": []
    },
    {
      "cell_type": "code",
      "metadata": {
        "id": "ahmK1AU3hRT9"
      },
      "source": [
        "import tensorflow as tf\n",
        "from tensorflow.keras import Sequential\n",
        "from tensorflow.keras.layers import  Dense\n",
        "from keras.utils import np_utils"
      ],
      "execution_count": 67,
      "outputs": []
    },
    {
      "cell_type": "code",
      "metadata": {
        "id": "q5IhFujNhYNa"
      },
      "source": [
        "y_train= np_utils.to_categorical( y_train)\n",
        "y_test = np_utils.to_categorical(y_test)\n",
        "\n",
        "n_classes= y_test.shape[1]"
      ],
      "execution_count": 68,
      "outputs": []
    },
    {
      "cell_type": "code",
      "metadata": {
        "colab": {
          "base_uri": "https://localhost:8080/"
        },
        "id": "80D1uBcRhbwh",
        "outputId": "723eeeba-7a4b-4e91-83aa-d80a016af1c3"
      },
      "source": [
        "def design_mlp():\n",
        "    model = Sequential()\n",
        "    model.add(Dense(16,input_dim = 4,activation=\"relu\"))\n",
        "    model.add(Dense(8,activation=\"relu\"))\n",
        "    model.add(Dense(n_classes,activation=\"softmax\"))\n",
        "    \n",
        "    model.compile(loss=\"categorical_crossentropy\",optimizer=\"adam\",metrics=[\"accuracy\"])\n",
        "    return model\n",
        "model = design_mlp()\n",
        "print(model.summary())"
      ],
      "execution_count": 70,
      "outputs": [
        {
          "output_type": "stream",
          "text": [
            "Model: \"sequential_23\"\n",
            "_________________________________________________________________\n",
            "Layer (type)                 Output Shape              Param #   \n",
            "=================================================================\n",
            "dense_66 (Dense)             (None, 16)                80        \n",
            "_________________________________________________________________\n",
            "dense_67 (Dense)             (None, 8)                 136       \n",
            "_________________________________________________________________\n",
            "dense_68 (Dense)             (None, 3)                 27        \n",
            "=================================================================\n",
            "Total params: 243\n",
            "Trainable params: 243\n",
            "Non-trainable params: 0\n",
            "_________________________________________________________________\n",
            "None\n"
          ],
          "name": "stdout"
        }
      ]
    },
    {
      "cell_type": "code",
      "metadata": {
        "id": "77-oiaU5hq-8",
        "colab": {
          "base_uri": "https://localhost:8080/"
        },
        "outputId": "802fa671-43e3-475e-8ee1-c9aee85b2bd7"
      },
      "source": [
        "history=model.fit(x_train, y_train, validation_split=0.3, shuffle=True, batch_size=16,epochs=100)"
      ],
      "execution_count": 71,
      "outputs": [
        {
          "output_type": "stream",
          "text": [
            "Epoch 1/100\n",
            "6/6 [==============================] - 1s 32ms/step - loss: 13.4337 - accuracy: 0.2386 - val_loss: 14.1472 - val_accuracy: 0.1538\n",
            "Epoch 2/100\n",
            "6/6 [==============================] - 0s 5ms/step - loss: 11.4514 - accuracy: 0.2386 - val_loss: 12.0253 - val_accuracy: 0.1538\n",
            "Epoch 3/100\n",
            "6/6 [==============================] - 0s 6ms/step - loss: 9.6039 - accuracy: 0.2386 - val_loss: 10.0071 - val_accuracy: 0.1795\n",
            "Epoch 4/100\n",
            "6/6 [==============================] - 0s 6ms/step - loss: 7.8378 - accuracy: 0.2500 - val_loss: 8.1148 - val_accuracy: 0.1795\n",
            "Epoch 5/100\n",
            "6/6 [==============================] - 0s 6ms/step - loss: 6.2130 - accuracy: 0.2727 - val_loss: 6.3195 - val_accuracy: 0.2051\n",
            "Epoch 6/100\n",
            "6/6 [==============================] - 0s 5ms/step - loss: 4.7218 - accuracy: 0.2727 - val_loss: 4.6904 - val_accuracy: 0.2051\n",
            "Epoch 7/100\n",
            "6/6 [==============================] - 0s 6ms/step - loss: 3.5168 - accuracy: 0.2841 - val_loss: 3.3393 - val_accuracy: 0.2051\n",
            "Epoch 8/100\n",
            "6/6 [==============================] - 0s 5ms/step - loss: 2.4632 - accuracy: 0.2955 - val_loss: 2.3600 - val_accuracy: 0.2308\n",
            "Epoch 9/100\n",
            "6/6 [==============================] - 0s 5ms/step - loss: 1.6315 - accuracy: 0.2955 - val_loss: 1.2898 - val_accuracy: 0.2308\n",
            "Epoch 10/100\n",
            "6/6 [==============================] - 0s 5ms/step - loss: 1.0002 - accuracy: 0.3182 - val_loss: 0.9396 - val_accuracy: 0.4872\n",
            "Epoch 11/100\n",
            "6/6 [==============================] - 0s 5ms/step - loss: 1.0713 - accuracy: 0.4545 - val_loss: 0.8883 - val_accuracy: 0.6410\n",
            "Epoch 12/100\n",
            "6/6 [==============================] - 0s 5ms/step - loss: 1.0271 - accuracy: 0.5000 - val_loss: 0.8312 - val_accuracy: 0.7179\n",
            "Epoch 13/100\n",
            "6/6 [==============================] - 0s 5ms/step - loss: 0.9278 - accuracy: 0.6250 - val_loss: 0.8190 - val_accuracy: 0.7436\n",
            "Epoch 14/100\n",
            "6/6 [==============================] - 0s 5ms/step - loss: 0.8643 - accuracy: 0.6250 - val_loss: 0.8402 - val_accuracy: 0.7436\n",
            "Epoch 15/100\n",
            "6/6 [==============================] - 0s 6ms/step - loss: 0.8480 - accuracy: 0.6477 - val_loss: 0.8268 - val_accuracy: 0.6923\n",
            "Epoch 16/100\n",
            "6/6 [==============================] - 0s 6ms/step - loss: 0.8021 - accuracy: 0.6591 - val_loss: 0.7533 - val_accuracy: 0.7692\n",
            "Epoch 17/100\n",
            "6/6 [==============================] - 0s 8ms/step - loss: 0.7392 - accuracy: 0.6932 - val_loss: 0.7635 - val_accuracy: 0.7436\n",
            "Epoch 18/100\n",
            "6/6 [==============================] - 0s 5ms/step - loss: 0.7300 - accuracy: 0.7045 - val_loss: 0.7320 - val_accuracy: 0.7436\n",
            "Epoch 19/100\n",
            "6/6 [==============================] - 0s 5ms/step - loss: 0.7205 - accuracy: 0.6818 - val_loss: 0.6905 - val_accuracy: 0.7949\n",
            "Epoch 20/100\n",
            "6/6 [==============================] - 0s 6ms/step - loss: 0.7082 - accuracy: 0.6818 - val_loss: 0.6860 - val_accuracy: 0.7949\n",
            "Epoch 21/100\n",
            "6/6 [==============================] - 0s 6ms/step - loss: 0.6989 - accuracy: 0.6818 - val_loss: 0.6957 - val_accuracy: 0.7692\n",
            "Epoch 22/100\n",
            "6/6 [==============================] - 0s 5ms/step - loss: 0.6901 - accuracy: 0.6932 - val_loss: 0.7024 - val_accuracy: 0.7436\n",
            "Epoch 23/100\n",
            "6/6 [==============================] - 0s 6ms/step - loss: 0.6899 - accuracy: 0.7045 - val_loss: 0.6997 - val_accuracy: 0.7436\n",
            "Epoch 24/100\n",
            "6/6 [==============================] - 0s 5ms/step - loss: 0.6777 - accuracy: 0.6932 - val_loss: 0.6786 - val_accuracy: 0.7692\n",
            "Epoch 25/100\n",
            "6/6 [==============================] - 0s 5ms/step - loss: 0.6717 - accuracy: 0.6932 - val_loss: 0.6688 - val_accuracy: 0.7692\n",
            "Epoch 26/100\n",
            "6/6 [==============================] - 0s 9ms/step - loss: 0.6685 - accuracy: 0.6932 - val_loss: 0.6632 - val_accuracy: 0.7692\n",
            "Epoch 27/100\n",
            "6/6 [==============================] - 0s 8ms/step - loss: 0.6582 - accuracy: 0.6932 - val_loss: 0.6723 - val_accuracy: 0.7692\n",
            "Epoch 28/100\n",
            "6/6 [==============================] - 0s 6ms/step - loss: 0.6592 - accuracy: 0.7045 - val_loss: 0.6855 - val_accuracy: 0.7436\n",
            "Epoch 29/100\n",
            "6/6 [==============================] - 0s 6ms/step - loss: 0.6522 - accuracy: 0.7045 - val_loss: 0.6628 - val_accuracy: 0.7692\n",
            "Epoch 30/100\n",
            "6/6 [==============================] - 0s 5ms/step - loss: 0.6465 - accuracy: 0.6818 - val_loss: 0.6493 - val_accuracy: 0.7949\n",
            "Epoch 31/100\n",
            "6/6 [==============================] - 0s 6ms/step - loss: 0.6396 - accuracy: 0.7045 - val_loss: 0.6534 - val_accuracy: 0.7692\n",
            "Epoch 32/100\n",
            "6/6 [==============================] - 0s 6ms/step - loss: 0.6351 - accuracy: 0.6932 - val_loss: 0.6537 - val_accuracy: 0.7692\n",
            "Epoch 33/100\n",
            "6/6 [==============================] - 0s 6ms/step - loss: 0.6316 - accuracy: 0.6932 - val_loss: 0.6413 - val_accuracy: 0.7949\n",
            "Epoch 34/100\n",
            "6/6 [==============================] - 0s 6ms/step - loss: 0.6269 - accuracy: 0.7045 - val_loss: 0.6465 - val_accuracy: 0.7692\n",
            "Epoch 35/100\n",
            "6/6 [==============================] - 0s 5ms/step - loss: 0.6237 - accuracy: 0.7045 - val_loss: 0.6341 - val_accuracy: 0.7949\n",
            "Epoch 36/100\n",
            "6/6 [==============================] - 0s 5ms/step - loss: 0.6184 - accuracy: 0.7045 - val_loss: 0.6330 - val_accuracy: 0.7949\n",
            "Epoch 37/100\n",
            "6/6 [==============================] - 0s 5ms/step - loss: 0.6158 - accuracy: 0.6932 - val_loss: 0.6327 - val_accuracy: 0.7692\n",
            "Epoch 38/100\n",
            "6/6 [==============================] - 0s 6ms/step - loss: 0.6111 - accuracy: 0.7045 - val_loss: 0.6266 - val_accuracy: 0.7949\n",
            "Epoch 39/100\n",
            "6/6 [==============================] - 0s 6ms/step - loss: 0.6080 - accuracy: 0.7045 - val_loss: 0.6276 - val_accuracy: 0.7692\n",
            "Epoch 40/100\n",
            "6/6 [==============================] - 0s 5ms/step - loss: 0.6057 - accuracy: 0.7045 - val_loss: 0.6220 - val_accuracy: 0.7949\n",
            "Epoch 41/100\n",
            "6/6 [==============================] - 0s 7ms/step - loss: 0.6041 - accuracy: 0.6932 - val_loss: 0.6267 - val_accuracy: 0.7692\n",
            "Epoch 42/100\n",
            "6/6 [==============================] - 0s 6ms/step - loss: 0.5996 - accuracy: 0.7045 - val_loss: 0.6139 - val_accuracy: 0.8205\n",
            "Epoch 43/100\n",
            "6/6 [==============================] - 0s 6ms/step - loss: 0.5992 - accuracy: 0.6932 - val_loss: 0.6116 - val_accuracy: 0.8205\n",
            "Epoch 44/100\n",
            "6/6 [==============================] - 0s 7ms/step - loss: 0.5955 - accuracy: 0.7159 - val_loss: 0.6204 - val_accuracy: 0.7692\n",
            "Epoch 45/100\n",
            "6/6 [==============================] - 0s 7ms/step - loss: 0.5894 - accuracy: 0.7159 - val_loss: 0.6109 - val_accuracy: 0.7949\n",
            "Epoch 46/100\n",
            "6/6 [==============================] - 0s 6ms/step - loss: 0.5884 - accuracy: 0.7159 - val_loss: 0.6058 - val_accuracy: 0.8205\n",
            "Epoch 47/100\n",
            "6/6 [==============================] - 0s 6ms/step - loss: 0.5840 - accuracy: 0.7045 - val_loss: 0.6038 - val_accuracy: 0.7949\n",
            "Epoch 48/100\n",
            "6/6 [==============================] - 0s 6ms/step - loss: 0.5816 - accuracy: 0.7045 - val_loss: 0.6046 - val_accuracy: 0.7949\n",
            "Epoch 49/100\n",
            "6/6 [==============================] - 0s 6ms/step - loss: 0.5816 - accuracy: 0.7159 - val_loss: 0.6118 - val_accuracy: 0.7692\n",
            "Epoch 50/100\n",
            "6/6 [==============================] - 0s 5ms/step - loss: 0.5776 - accuracy: 0.7159 - val_loss: 0.5993 - val_accuracy: 0.7949\n",
            "Epoch 51/100\n",
            "6/6 [==============================] - 0s 6ms/step - loss: 0.5752 - accuracy: 0.7045 - val_loss: 0.5942 - val_accuracy: 0.8205\n",
            "Epoch 52/100\n",
            "6/6 [==============================] - 0s 6ms/step - loss: 0.5724 - accuracy: 0.7045 - val_loss: 0.5922 - val_accuracy: 0.8205\n",
            "Epoch 53/100\n",
            "6/6 [==============================] - 0s 6ms/step - loss: 0.5683 - accuracy: 0.7273 - val_loss: 0.6007 - val_accuracy: 0.7692\n",
            "Epoch 54/100\n",
            "6/6 [==============================] - 0s 5ms/step - loss: 0.5681 - accuracy: 0.7159 - val_loss: 0.5951 - val_accuracy: 0.7692\n",
            "Epoch 55/100\n",
            "6/6 [==============================] - 0s 6ms/step - loss: 0.5643 - accuracy: 0.7159 - val_loss: 0.5859 - val_accuracy: 0.7949\n",
            "Epoch 56/100\n",
            "6/6 [==============================] - 0s 5ms/step - loss: 0.5617 - accuracy: 0.7273 - val_loss: 0.5779 - val_accuracy: 0.8205\n",
            "Epoch 57/100\n",
            "6/6 [==============================] - 0s 6ms/step - loss: 0.5605 - accuracy: 0.7045 - val_loss: 0.5757 - val_accuracy: 0.8205\n",
            "Epoch 58/100\n",
            "6/6 [==============================] - 0s 6ms/step - loss: 0.5585 - accuracy: 0.7159 - val_loss: 0.5705 - val_accuracy: 0.8205\n",
            "Epoch 59/100\n",
            "6/6 [==============================] - 0s 5ms/step - loss: 0.5539 - accuracy: 0.7159 - val_loss: 0.5692 - val_accuracy: 0.8205\n",
            "Epoch 60/100\n",
            "6/6 [==============================] - 0s 6ms/step - loss: 0.5513 - accuracy: 0.7159 - val_loss: 0.5686 - val_accuracy: 0.7949\n",
            "Epoch 61/100\n",
            "6/6 [==============================] - 0s 6ms/step - loss: 0.5501 - accuracy: 0.7273 - val_loss: 0.5595 - val_accuracy: 0.8205\n",
            "Epoch 62/100\n",
            "6/6 [==============================] - 0s 6ms/step - loss: 0.5489 - accuracy: 0.7273 - val_loss: 0.5589 - val_accuracy: 0.7949\n",
            "Epoch 63/100\n",
            "6/6 [==============================] - 0s 5ms/step - loss: 0.5438 - accuracy: 0.7273 - val_loss: 0.5483 - val_accuracy: 0.8205\n",
            "Epoch 64/100\n",
            "6/6 [==============================] - 0s 6ms/step - loss: 0.5431 - accuracy: 0.7159 - val_loss: 0.5477 - val_accuracy: 0.7949\n",
            "Epoch 65/100\n",
            "6/6 [==============================] - 0s 5ms/step - loss: 0.5392 - accuracy: 0.7159 - val_loss: 0.5399 - val_accuracy: 0.8205\n",
            "Epoch 66/100\n",
            "6/6 [==============================] - 0s 5ms/step - loss: 0.5393 - accuracy: 0.7159 - val_loss: 0.5399 - val_accuracy: 0.8205\n",
            "Epoch 67/100\n",
            "6/6 [==============================] - 0s 5ms/step - loss: 0.5350 - accuracy: 0.7045 - val_loss: 0.5308 - val_accuracy: 0.8205\n",
            "Epoch 68/100\n",
            "6/6 [==============================] - 0s 6ms/step - loss: 0.5269 - accuracy: 0.7045 - val_loss: 0.5296 - val_accuracy: 0.8205\n",
            "Epoch 69/100\n",
            "6/6 [==============================] - 0s 6ms/step - loss: 0.5243 - accuracy: 0.7159 - val_loss: 0.5263 - val_accuracy: 0.8205\n",
            "Epoch 70/100\n",
            "6/6 [==============================] - 0s 6ms/step - loss: 0.5239 - accuracy: 0.7273 - val_loss: 0.5214 - val_accuracy: 0.7949\n",
            "Epoch 71/100\n",
            "6/6 [==============================] - 0s 6ms/step - loss: 0.5205 - accuracy: 0.7273 - val_loss: 0.5206 - val_accuracy: 0.7949\n",
            "Epoch 72/100\n",
            "6/6 [==============================] - 0s 7ms/step - loss: 0.5198 - accuracy: 0.7159 - val_loss: 0.5202 - val_accuracy: 0.7949\n",
            "Epoch 73/100\n",
            "6/6 [==============================] - 0s 6ms/step - loss: 0.5199 - accuracy: 0.7159 - val_loss: 0.5108 - val_accuracy: 0.7949\n",
            "Epoch 74/100\n",
            "6/6 [==============================] - 0s 6ms/step - loss: 0.5127 - accuracy: 0.7159 - val_loss: 0.5084 - val_accuracy: 0.8205\n",
            "Epoch 75/100\n",
            "6/6 [==============================] - 0s 6ms/step - loss: 0.5109 - accuracy: 0.7614 - val_loss: 0.5030 - val_accuracy: 0.7692\n",
            "Epoch 76/100\n",
            "6/6 [==============================] - 0s 6ms/step - loss: 0.5078 - accuracy: 0.7727 - val_loss: 0.5020 - val_accuracy: 0.8205\n",
            "Epoch 77/100\n",
            "6/6 [==============================] - 0s 5ms/step - loss: 0.5070 - accuracy: 0.7614 - val_loss: 0.5006 - val_accuracy: 0.7949\n",
            "Epoch 78/100\n",
            "6/6 [==============================] - 0s 6ms/step - loss: 0.5108 - accuracy: 0.7045 - val_loss: 0.4979 - val_accuracy: 0.7949\n",
            "Epoch 79/100\n",
            "6/6 [==============================] - 0s 6ms/step - loss: 0.5118 - accuracy: 0.7273 - val_loss: 0.4986 - val_accuracy: 0.8205\n",
            "Epoch 80/100\n",
            "6/6 [==============================] - 0s 6ms/step - loss: 0.5020 - accuracy: 0.7614 - val_loss: 0.4936 - val_accuracy: 0.7692\n",
            "Epoch 81/100\n",
            "6/6 [==============================] - 0s 5ms/step - loss: 0.4999 - accuracy: 0.7386 - val_loss: 0.4902 - val_accuracy: 0.8205\n",
            "Epoch 82/100\n",
            "6/6 [==============================] - 0s 7ms/step - loss: 0.4963 - accuracy: 0.7727 - val_loss: 0.4838 - val_accuracy: 0.8205\n",
            "Epoch 83/100\n",
            "6/6 [==============================] - 0s 5ms/step - loss: 0.4937 - accuracy: 0.7614 - val_loss: 0.4805 - val_accuracy: 0.7949\n",
            "Epoch 84/100\n",
            "6/6 [==============================] - 0s 5ms/step - loss: 0.4923 - accuracy: 0.7273 - val_loss: 0.4768 - val_accuracy: 0.7949\n",
            "Epoch 85/100\n",
            "6/6 [==============================] - 0s 6ms/step - loss: 0.4977 - accuracy: 0.7273 - val_loss: 0.4710 - val_accuracy: 0.7949\n",
            "Epoch 86/100\n",
            "6/6 [==============================] - 0s 5ms/step - loss: 0.4953 - accuracy: 0.7386 - val_loss: 0.4706 - val_accuracy: 0.8462\n",
            "Epoch 87/100\n",
            "6/6 [==============================] - 0s 6ms/step - loss: 0.4906 - accuracy: 0.7273 - val_loss: 0.4688 - val_accuracy: 0.7949\n",
            "Epoch 88/100\n",
            "6/6 [==============================] - 0s 6ms/step - loss: 0.4869 - accuracy: 0.7727 - val_loss: 0.4700 - val_accuracy: 0.8205\n",
            "Epoch 89/100\n",
            "6/6 [==============================] - 0s 6ms/step - loss: 0.4843 - accuracy: 0.7841 - val_loss: 0.4655 - val_accuracy: 0.8205\n",
            "Epoch 90/100\n",
            "6/6 [==============================] - 0s 6ms/step - loss: 0.4856 - accuracy: 0.7386 - val_loss: 0.4648 - val_accuracy: 0.7949\n",
            "Epoch 91/100\n",
            "6/6 [==============================] - 0s 6ms/step - loss: 0.4879 - accuracy: 0.7841 - val_loss: 0.4691 - val_accuracy: 0.8462\n",
            "Epoch 92/100\n",
            "6/6 [==============================] - 0s 5ms/step - loss: 0.4802 - accuracy: 0.7614 - val_loss: 0.4613 - val_accuracy: 0.8205\n",
            "Epoch 93/100\n",
            "6/6 [==============================] - 0s 5ms/step - loss: 0.4770 - accuracy: 0.7841 - val_loss: 0.4595 - val_accuracy: 0.8205\n",
            "Epoch 94/100\n",
            "6/6 [==============================] - 0s 6ms/step - loss: 0.4773 - accuracy: 0.7727 - val_loss: 0.4562 - val_accuracy: 0.7949\n",
            "Epoch 95/100\n",
            "6/6 [==============================] - 0s 7ms/step - loss: 0.4800 - accuracy: 0.7386 - val_loss: 0.4584 - val_accuracy: 0.8462\n",
            "Epoch 96/100\n",
            "6/6 [==============================] - 0s 7ms/step - loss: 0.4702 - accuracy: 0.7614 - val_loss: 0.4510 - val_accuracy: 0.7949\n",
            "Epoch 97/100\n",
            "6/6 [==============================] - 0s 10ms/step - loss: 0.4724 - accuracy: 0.7841 - val_loss: 0.4483 - val_accuracy: 0.8462\n",
            "Epoch 98/100\n",
            "6/6 [==============================] - 0s 5ms/step - loss: 0.4706 - accuracy: 0.7841 - val_loss: 0.4449 - val_accuracy: 0.8205\n",
            "Epoch 99/100\n",
            "6/6 [==============================] - 0s 7ms/step - loss: 0.4754 - accuracy: 0.7500 - val_loss: 0.4493 - val_accuracy: 0.8462\n",
            "Epoch 100/100\n",
            "6/6 [==============================] - 0s 6ms/step - loss: 0.4671 - accuracy: 0.7614 - val_loss: 0.4354 - val_accuracy: 0.8205\n"
          ],
          "name": "stdout"
        }
      ]
    },
    {
      "cell_type": "code",
      "metadata": {
        "id": "6UYgSA6wvnze",
        "colab": {
          "base_uri": "https://localhost:8080/"
        },
        "outputId": "d34819f9-8051-45f8-81fc-763d7d94c27e"
      },
      "source": [
        "for layerNum, layer in enumerate(model.layers):\n",
        "    weights = layer.get_weights()[0]\n",
        "    biases = layer.get_weights()[1]\n",
        "    \n",
        "    for toNeuronNum, bias in enumerate(biases):\n",
        "        print(f'{layerNum}B -> L{layerNum+1}N{toNeuronNum}: {bias}')\n",
        "    \n",
        "    for fromNeuronNum, wgt in enumerate(weights):\n",
        "        for toNeuronNum, wgt2 in enumerate(wgt):\n",
        "            print(f'L{layerNum}N{fromNeuronNum} \\\n",
        "                  -> L{layerNum+1}N{toNeuronNum} = {wgt2}')"
      ],
      "execution_count": 80,
      "outputs": [
        {
          "output_type": "stream",
          "text": [
            "0B -> L1N0: 0.0\n",
            "0B -> L1N1: -0.058848243206739426\n",
            "0B -> L1N2: -0.07102012634277344\n",
            "0B -> L1N3: -0.08816428482532501\n",
            "0B -> L1N4: 0.08120240271091461\n",
            "0B -> L1N5: -0.0678725317120552\n",
            "0B -> L1N6: -0.02644341252744198\n",
            "0B -> L1N7: -0.03394169732928276\n",
            "0B -> L1N8: 0.13351847231388092\n",
            "0B -> L1N9: -0.057848602533340454\n",
            "0B -> L1N10: 0.0\n",
            "0B -> L1N11: 0.0\n",
            "0B -> L1N12: 0.05040568858385086\n",
            "0B -> L1N13: 0.0\n",
            "0B -> L1N14: -0.05789041891694069\n",
            "0B -> L1N15: 0.0\n",
            "L0N0                   -> L1N0 = -0.20899248123168945\n",
            "L0N0                   -> L1N1 = -0.09267701208591461\n",
            "L0N0                   -> L1N2 = 0.09678232669830322\n",
            "L0N0                   -> L1N3 = 0.3204139769077301\n",
            "L0N0                   -> L1N4 = 0.31873926520347595\n",
            "L0N0                   -> L1N5 = 0.2995341122150421\n",
            "L0N0                   -> L1N6 = 0.37900152802467346\n",
            "L0N0                   -> L1N7 = -0.29733389616012573\n",
            "L0N0                   -> L1N8 = 0.030493300408124924\n",
            "L0N0                   -> L1N9 = 0.48111650347709656\n",
            "L0N0                   -> L1N10 = -0.08082461357116699\n",
            "L0N0                   -> L1N11 = -0.050089746713638306\n",
            "L0N0                   -> L1N12 = 0.28709661960601807\n",
            "L0N0                   -> L1N13 = -0.08956325054168701\n",
            "L0N0                   -> L1N14 = 0.4587792158126831\n",
            "L0N0                   -> L1N15 = -0.19079828262329102\n",
            "L0N1                   -> L1N0 = -0.3539831042289734\n",
            "L0N1                   -> L1N1 = 0.1637253761291504\n",
            "L0N1                   -> L1N2 = -0.1854223608970642\n",
            "L0N1                   -> L1N3 = 0.0367986336350441\n",
            "L0N1                   -> L1N4 = -0.4178883135318756\n",
            "L0N1                   -> L1N5 = 0.09574183821678162\n",
            "L0N1                   -> L1N6 = -0.30219772458076477\n",
            "L0N1                   -> L1N7 = 0.0342409610748291\n",
            "L0N1                   -> L1N8 = 0.5895507335662842\n",
            "L0N1                   -> L1N9 = -0.536095142364502\n",
            "L0N1                   -> L1N10 = -0.34303805232048035\n",
            "L0N1                   -> L1N11 = -0.1885184943675995\n",
            "L0N1                   -> L1N12 = 0.36723268032073975\n",
            "L0N1                   -> L1N13 = -0.44445300102233887\n",
            "L0N1                   -> L1N14 = 0.2576881945133209\n",
            "L0N1                   -> L1N15 = 0.18095433712005615\n",
            "L0N2                   -> L1N0 = -0.26425686478614807\n",
            "L0N2                   -> L1N1 = 0.22920769453048706\n",
            "L0N2                   -> L1N2 = 0.14469456672668457\n",
            "L0N2                   -> L1N3 = 0.22481630742549896\n",
            "L0N2                   -> L1N4 = 0.08772481232881546\n",
            "L0N2                   -> L1N5 = -0.052118174731731415\n",
            "L0N2                   -> L1N6 = 0.35979241132736206\n",
            "L0N2                   -> L1N7 = 0.2257058471441269\n",
            "L0N2                   -> L1N8 = 0.4874322712421417\n",
            "L0N2                   -> L1N9 = -0.1595095843076706\n",
            "L0N2                   -> L1N10 = -0.005645811557769775\n",
            "L0N2                   -> L1N11 = 0.0328715443611145\n",
            "L0N2                   -> L1N12 = 0.26934903860092163\n",
            "L0N2                   -> L1N13 = 0.2965359091758728\n",
            "L0N2                   -> L1N14 = -0.0022704298608005047\n",
            "L0N2                   -> L1N15 = -0.13951560854911804\n",
            "L0N3                   -> L1N0 = -0.024685800075531006\n",
            "L0N3                   -> L1N1 = -0.6072950959205627\n",
            "L0N3                   -> L1N2 = -0.14168277382850647\n",
            "L0N3                   -> L1N3 = 0.19239750504493713\n",
            "L0N3                   -> L1N4 = -0.3947432041168213\n",
            "L0N3                   -> L1N5 = 0.050719406455755234\n",
            "L0N3                   -> L1N6 = -0.09217511117458344\n",
            "L0N3                   -> L1N7 = 0.07487251609563828\n",
            "L0N3                   -> L1N8 = -0.2591439485549927\n",
            "L0N3                   -> L1N9 = -0.025219785049557686\n",
            "L0N3                   -> L1N10 = 0.3789706826210022\n",
            "L0N3                   -> L1N11 = -0.13725724816322327\n",
            "L0N3                   -> L1N12 = 0.14894846081733704\n",
            "L0N3                   -> L1N13 = -0.346271276473999\n",
            "L0N3                   -> L1N14 = -0.4101458489894867\n",
            "L0N3                   -> L1N15 = -0.2806496024131775\n",
            "1B -> L2N0: -0.1056346446275711\n",
            "1B -> L2N1: -0.08525405079126358\n",
            "1B -> L2N2: 0.0\n",
            "1B -> L2N3: -0.0426570400595665\n",
            "1B -> L2N4: 0.32713839411735535\n",
            "1B -> L2N5: 0.0\n",
            "1B -> L2N6: -0.05597328022122383\n",
            "1B -> L2N7: -0.03608717396855354\n",
            "L1N0                   -> L2N0 = -0.295019268989563\n",
            "L1N0                   -> L2N1 = 0.24704360961914062\n",
            "L1N0                   -> L2N2 = 0.32729947566986084\n",
            "L1N0                   -> L2N3 = -0.49001002311706543\n",
            "L1N0                   -> L2N4 = -0.14147984981536865\n",
            "L1N0                   -> L2N5 = 0.26310181617736816\n",
            "L1N0                   -> L2N6 = -0.3299069404602051\n",
            "L1N0                   -> L2N7 = 0.1469796895980835\n",
            "L1N1                   -> L2N0 = 0.124229297041893\n",
            "L1N1                   -> L2N1 = 0.3973342180252075\n",
            "L1N1                   -> L2N2 = 0.190912127494812\n",
            "L1N1                   -> L2N3 = -0.15522722899913788\n",
            "L1N1                   -> L2N4 = 0.007028983440250158\n",
            "L1N1                   -> L2N5 = -0.4398190975189209\n",
            "L1N1                   -> L2N6 = 0.02865125983953476\n",
            "L1N1                   -> L2N7 = 0.26012617349624634\n",
            "L1N2                   -> L2N0 = -0.5202977657318115\n",
            "L1N2                   -> L2N1 = -0.05242593213915825\n",
            "L1N2                   -> L2N2 = -0.03285324573516846\n",
            "L1N2                   -> L2N3 = 0.1536118984222412\n",
            "L1N2                   -> L2N4 = -0.07934404164552689\n",
            "L1N2                   -> L2N5 = -0.1691884994506836\n",
            "L1N2                   -> L2N6 = 0.35596024990081787\n",
            "L1N2                   -> L2N7 = -0.45207634568214417\n",
            "L1N3                   -> L2N0 = -0.432773232460022\n",
            "L1N3                   -> L2N1 = 0.3033824861049652\n",
            "L1N3                   -> L2N2 = -0.2200794219970703\n",
            "L1N3                   -> L2N3 = 0.013583040796220303\n",
            "L1N3                   -> L2N4 = -0.04281555488705635\n",
            "L1N3                   -> L2N5 = -0.22580742835998535\n",
            "L1N3                   -> L2N6 = 0.37191128730773926\n",
            "L1N3                   -> L2N7 = 0.05556885153055191\n",
            "L1N4                   -> L2N0 = 0.12752866744995117\n",
            "L1N4                   -> L2N1 = 0.26384609937667847\n",
            "L1N4                   -> L2N2 = 0.3164771795272827\n",
            "L1N4                   -> L2N3 = -0.5149509906768799\n",
            "L1N4                   -> L2N4 = 0.3490375876426697\n",
            "L1N4                   -> L2N5 = 0.4550023078918457\n",
            "L1N4                   -> L2N6 = -0.41838353872299194\n",
            "L1N4                   -> L2N7 = -0.5152184367179871\n",
            "L1N5                   -> L2N0 = 0.0961948037147522\n",
            "L1N5                   -> L2N1 = -0.3493121862411499\n",
            "L1N5                   -> L2N2 = 0.23935163021087646\n",
            "L1N5                   -> L2N3 = 0.22117845714092255\n",
            "L1N5                   -> L2N4 = -0.24124673008918762\n",
            "L1N5                   -> L2N5 = -0.2503385543823242\n",
            "L1N5                   -> L2N6 = 0.4284285008907318\n",
            "L1N5                   -> L2N7 = 0.42894139885902405\n",
            "L1N6                   -> L2N0 = 0.07216707617044449\n",
            "L1N6                   -> L2N1 = 0.21298854053020477\n",
            "L1N6                   -> L2N2 = -0.1839902400970459\n",
            "L1N6                   -> L2N3 = -0.2200830727815628\n",
            "L1N6                   -> L2N4 = -0.1601836234331131\n",
            "L1N6                   -> L2N5 = -0.17600679397583008\n",
            "L1N6                   -> L2N6 = -0.18297697603702545\n",
            "L1N6                   -> L2N7 = -0.11256460100412369\n",
            "L1N7                   -> L2N0 = -0.38926923274993896\n",
            "L1N7                   -> L2N1 = 0.3995020389556885\n",
            "L1N7                   -> L2N2 = -0.3623868227005005\n",
            "L1N7                   -> L2N3 = -0.2578267753124237\n",
            "L1N7                   -> L2N4 = 0.0334218367934227\n",
            "L1N7                   -> L2N5 = -0.2901359796524048\n",
            "L1N7                   -> L2N6 = -0.02566532790660858\n",
            "L1N7                   -> L2N7 = 0.42943793535232544\n",
            "L1N8                   -> L2N0 = 0.07207465171813965\n",
            "L1N8                   -> L2N1 = -0.07984810322523117\n",
            "L1N8                   -> L2N2 = -0.17625117301940918\n",
            "L1N8                   -> L2N3 = -0.5128501057624817\n",
            "L1N8                   -> L2N4 = 0.772210955619812\n",
            "L1N8                   -> L2N5 = -0.012970209121704102\n",
            "L1N8                   -> L2N6 = -0.45131340622901917\n",
            "L1N8                   -> L2N7 = -0.2507576644420624\n",
            "L1N9                   -> L2N0 = -0.20928283035755157\n",
            "L1N9                   -> L2N1 = 0.15782754123210907\n",
            "L1N9                   -> L2N2 = -0.4682215452194214\n",
            "L1N9                   -> L2N3 = 0.40604639053344727\n",
            "L1N9                   -> L2N4 = -0.11625398695468903\n",
            "L1N9                   -> L2N5 = -0.22711610794067383\n",
            "L1N9                   -> L2N6 = -0.49074843525886536\n",
            "L1N9                   -> L2N7 = 0.0539732500910759\n",
            "L1N10                   -> L2N0 = 0.018987059593200684\n",
            "L1N10                   -> L2N1 = -0.08551132678985596\n",
            "L1N10                   -> L2N2 = -0.42949914932250977\n",
            "L1N10                   -> L2N3 = -0.3462589979171753\n",
            "L1N10                   -> L2N4 = 0.19066429138183594\n",
            "L1N10                   -> L2N5 = -0.07101929187774658\n",
            "L1N10                   -> L2N6 = 0.37545013427734375\n",
            "L1N10                   -> L2N7 = -0.34090185165405273\n",
            "L1N11                   -> L2N0 = 0.018558859825134277\n",
            "L1N11                   -> L2N1 = 0.2009199857711792\n",
            "L1N11                   -> L2N2 = -0.21705353260040283\n",
            "L1N11                   -> L2N3 = 0.2511155605316162\n",
            "L1N11                   -> L2N4 = -0.3899219036102295\n",
            "L1N11                   -> L2N5 = -0.07944786548614502\n",
            "L1N11                   -> L2N6 = -0.18492591381072998\n",
            "L1N11                   -> L2N7 = 0.17408084869384766\n",
            "L1N12                   -> L2N0 = 0.34397950768470764\n",
            "L1N12                   -> L2N1 = -0.24880190193653107\n",
            "L1N12                   -> L2N2 = -0.24123573303222656\n",
            "L1N12                   -> L2N3 = 0.39395394921302795\n",
            "L1N12                   -> L2N4 = 0.4847550690174103\n",
            "L1N12                   -> L2N5 = -0.10188889503479004\n",
            "L1N12                   -> L2N6 = 0.07712104916572571\n",
            "L1N12                   -> L2N7 = 0.301954060792923\n",
            "L1N13                   -> L2N0 = -0.017061948776245117\n",
            "L1N13                   -> L2N1 = 0.3644578456878662\n",
            "L1N13                   -> L2N2 = -0.39043891429901123\n",
            "L1N13                   -> L2N3 = -0.3550835847854614\n",
            "L1N13                   -> L2N4 = 0.15498590469360352\n",
            "L1N13                   -> L2N5 = -0.4752936363220215\n",
            "L1N13                   -> L2N6 = 0.47961604595184326\n",
            "L1N13                   -> L2N7 = -0.18059420585632324\n",
            "L1N14                   -> L2N0 = -0.33178332448005676\n",
            "L1N14                   -> L2N1 = -0.0711800828576088\n",
            "L1N14                   -> L2N2 = 0.18061935901641846\n",
            "L1N14                   -> L2N3 = -0.34401312470436096\n",
            "L1N14                   -> L2N4 = -0.19964618980884552\n",
            "L1N14                   -> L2N5 = -0.09020483493804932\n",
            "L1N14                   -> L2N6 = 0.18991844356060028\n",
            "L1N14                   -> L2N7 = -0.39099881052970886\n",
            "L1N15                   -> L2N0 = -0.3051018714904785\n",
            "L1N15                   -> L2N1 = -0.41834592819213867\n",
            "L1N15                   -> L2N2 = 0.09750950336456299\n",
            "L1N15                   -> L2N3 = -0.3248940706253052\n",
            "L1N15                   -> L2N4 = -0.46883857250213623\n",
            "L1N15                   -> L2N5 = 0.3130298852920532\n",
            "L1N15                   -> L2N6 = -0.45973849296569824\n",
            "L1N15                   -> L2N7 = 0.3681321144104004\n",
            "2B -> L3N0: 0.14176134765148163\n",
            "2B -> L3N1: 0.1113491952419281\n",
            "2B -> L3N2: -0.1438799500465393\n",
            "L2N0                   -> L3N0 = -0.2966111898422241\n",
            "L2N0                   -> L3N1 = 0.12774547934532166\n",
            "L2N0                   -> L3N2 = -0.3304799199104309\n",
            "L2N1                   -> L3N0 = -0.564964234828949\n",
            "L2N1                   -> L3N1 = 0.2644519805908203\n",
            "L2N1                   -> L3N2 = 0.2977427840232849\n",
            "L2N2                   -> L3N0 = -0.23940598964691162\n",
            "L2N2                   -> L3N1 = 0.48837512731552124\n",
            "L2N2                   -> L3N2 = -0.03382378816604614\n",
            "L2N3                   -> L3N0 = -0.6817118525505066\n",
            "L2N3                   -> L3N1 = 0.056157536804676056\n",
            "L2N3                   -> L3N2 = 0.3576950132846832\n",
            "L2N4                   -> L3N0 = 0.9237573742866516\n",
            "L2N4                   -> L3N1 = -0.12484795600175858\n",
            "L2N4                   -> L3N2 = -0.5756279826164246\n",
            "L2N5                   -> L3N0 = -0.549593448638916\n",
            "L2N5                   -> L3N1 = -0.450288325548172\n",
            "L2N5                   -> L3N2 = -0.055943429470062256\n",
            "L2N6                   -> L3N0 = 0.20541682839393616\n",
            "L2N6                   -> L3N1 = -0.27963653206825256\n",
            "L2N6                   -> L3N2 = 0.3452129364013672\n",
            "L2N7                   -> L3N0 = 0.05752057582139969\n",
            "L2N7                   -> L3N1 = 0.6934090852737427\n",
            "L2N7                   -> L3N2 = 0.7062824368476868\n"
          ],
          "name": "stdout"
        }
      ]
    },
    {
      "cell_type": "code",
      "metadata": {
        "colab": {
          "base_uri": "https://localhost:8080/",
          "height": 295
        },
        "id": "U4l85HzMWHtI",
        "outputId": "bc4ef6a4-f290-41eb-cef3-9312b4df9c8d"
      },
      "source": [
        "plt.plot(weights)\n",
        "plt.plot(history.history['val_accuracy'])\n",
        "plt.title('weights')\n",
        "plt.ylabel('weights')\n",
        "plt.xlabel('epoch')\n",
        "plt.legend(['train', 'test'], loc='upper left')\n",
        "plt.show()"
      ],
      "execution_count": 88,
      "outputs": [
        {
          "output_type": "display_data",
          "data": {
            "image/png": "[encoded data removed]",
            "text/plain": [
              "<Figure size 432x288 with 1 Axes>"
            ]
          },
          "metadata": {
            "tags": [],
            "needs_background": "light"
          }
        }
      ]
    },
    {
      "cell_type": "code",
      "metadata": {
        "id": "CNTLhP1f965V",
        "colab": {
          "base_uri": "https://localhost:8080/"
        },
        "outputId": "36dd94d2-7074-4583-b5ac-d80075ab0252"
      },
      "source": [
        "from sklearn.metrics import confusion_matrix, classification_report \n",
        "\n",
        "y_pred = model.predict(x_test)\n",
        "\n",
        "model_report = classification_report(np.argmax(y_test, axis=1), np.argmax(y_pred, axis=1))\n",
        "print(model_report)"
      ],
      "execution_count": 73,
      "outputs": [
        {
          "output_type": "stream",
          "text": [
            "              precision    recall  f1-score   support\n",
            "\n",
            "           0       0.78      1.00      0.88         7\n",
            "           1       0.85      0.79      0.81        14\n",
            "           2       0.00      0.00      0.00         2\n",
            "\n",
            "    accuracy                           0.78        23\n",
            "   macro avg       0.54      0.60      0.56        23\n",
            "weighted avg       0.75      0.78      0.76        23\n",
            "\n"
          ],
          "name": "stdout"
        }
      ]
    },
    {
      "cell_type": "code",
      "metadata": {
        "colab": {
          "base_uri": "https://localhost:8080/"
        },
        "id": "o94wULy7OJ-E",
        "outputId": "682145ac-a213-4a96-d05a-6f2b04d32c48"
      },
      "source": [
        "model_conf = confusion_matrix(np.argmax(y_test, axis=1), np.argmax(y_pred, axis=1))\n",
        "print(model_conf)"
      ],
      "execution_count": 74,
      "outputs": [
        {
          "output_type": "stream",
          "text": [
            "[[ 7  0  0]\n",
            " [ 2 11  1]\n",
            " [ 0  2  0]]\n"
          ],
          "name": "stdout"
        }
      ]
    },
    {
      "cell_type": "code",
      "metadata": {
        "colab": {
          "base_uri": "https://localhost:8080/"
        },
        "id": "yr4w0bfZOObl",
        "outputId": "7f6d0c44-9e8c-435c-9996-ebeb3a859b61"
      },
      "source": [
        "eval_score_test = model.evaluate(x_test,y_test,verbose = 1)\n",
        "print (\"Test Accuracy: %.3f%%\" %(eval_score_test[1]*100)) \n",
        "\n",
        "\n",
        "# accuracy score on train data \n",
        "eval_score_train = model.evaluate(x_train,y_train,verbose=0)\n",
        "print (\"Train Accuracy: %.3f%%\" %(eval_score_train[1]*100)) "
      ],
      "execution_count": 75,
      "outputs": [
        {
          "output_type": "stream",
          "text": [
            "1/1 [==============================] - 0s 17ms/step - loss: 0.5173 - accuracy: 0.7826\n",
            "Test Accuracy: 78.261%\n",
            "Train Accuracy: 75.591%\n"
          ],
          "name": "stdout"
        }
      ]
    },
    {
      "cell_type": "code",
      "metadata": {
        "colab": {
          "base_uri": "https://localhost:8080/",
          "height": 295
        },
        "id": "o4u0KlktOaR-",
        "outputId": "7a37a147-e905-4cf2-f945-8aeb17874fcb"
      },
      "source": [
        "import matplotlib.pyplot as plt\n",
        "\n",
        "\n",
        "\n",
        "\n",
        "plt.plot(history.history['accuracy'])\n",
        "plt.plot(history.history['val_accuracy'])\n",
        "plt.title('model accuracy')\n",
        "plt.ylabel('accuracy')\n",
        "plt.xlabel('epoch')\n",
        "plt.legend(['train', 'test'], loc='upper left')\n",
        "plt.show()"
      ],
      "execution_count": 76,
      "outputs": [
        {
          "output_type": "display_data",
          "data": {
            "image/png": "[encoded data removed]",
            "text/plain": [
              "<Figure size 432x288 with 1 Axes>"
            ]
          },
          "metadata": {
            "tags": [],
            "needs_background": "light"
          }
        }
      ]
    },
    {
      "cell_type": "code",
      "metadata": {
        "colab": {
          "base_uri": "https://localhost:8080/",
          "height": 295
        },
        "id": "Kv8ImqozPLWS",
        "outputId": "1faebdf0-2f2a-40ee-d6c2-09b50470a07a"
      },
      "source": [
        "\n",
        "plt.plot(history.history['loss'])\n",
        "plt.plot(history.history['val_loss'])\n",
        "plt.title('model loss')\n",
        "plt.ylabel('loss')\n",
        "plt.xlabel('epoch')\n",
        "plt.legend(['train', 'test'], loc='upper left')\n",
        "plt.show()"
      ],
      "execution_count": 77,
      "outputs": [
        {
          "output_type": "display_data",
          "data": {
            "image/png": "[encoded data removed]",
            "text/plain": [
              "<Figure size 432x288 with 1 Axes>"
            ]
          },
          "metadata": {
            "tags": [],
            "needs_background": "light"
          }
        }
      ]
    },
    {
      "cell_type": "code",
      "metadata": {
        "colab": {
          "base_uri": "https://localhost:8080/",
          "height": 332
        },
        "id": "ELZJu-Y6PoMo",
        "outputId": "70a7b687-a40d-4086-d126-35725567178f"
      },
      "source": [
        "from sklearn.metrics import roc_curve, auc\n",
        "\n",
        "# Compute ROC curve and ROC area for each class\n",
        "fpr = dict()\n",
        "tpr = dict()\n",
        "roc_auc = dict()\n",
        "for i in range(n_classes):\n",
        "    fpr[i], tpr[i], _ = roc_curve(y_test[:, i], y_pred[:, i])\n",
        "    roc_auc[i] = auc(fpr[i], tpr[i])\n",
        "\n",
        "# Compute micro-average ROC curve and ROC area\n",
        "fpr[\"micro\"], tpr[\"micro\"], _ = roc_curve(y_test.ravel(), y_pred.ravel())\n",
        "roc_auc[\"micro\"] = auc(fpr[\"micro\"], tpr[\"micro\"])\n",
        "\n",
        "# Process of plotting roc-auc curve belonging to all classes.\n",
        "\n",
        "from itertools import cycle\n",
        "from scipy import interp\n",
        "\n",
        "# First aggregate all false positive rates\n",
        "all_fpr = np.unique(np.concatenate([fpr[i] for i in range(n_classes)]))\n",
        "\n",
        "# Then interpolate all ROC curves at this points\n",
        "mean_tpr = np.zeros_like(all_fpr)\n",
        "for i in range(n_classes):\n",
        "    mean_tpr += interp(all_fpr, fpr[i], tpr[i])\n",
        "\n",
        "# Finally average it and compute AUC\n",
        "mean_tpr /= n_classes\n",
        "\n",
        "fpr[\"macro\"] = all_fpr\n",
        "tpr[\"macro\"] = mean_tpr\n",
        "roc_auc[\"macro\"] = auc(fpr[\"macro\"], tpr[\"macro\"])\n",
        "\n",
        "\n",
        "# Plot all ROC curves\n",
        "lw = 2 # line_width\n",
        "plt.figure()\n",
        "plt.plot(fpr[\"micro\"], tpr[\"micro\"],\n",
        "         label='micro-average ROC curve (area = {0:0.2f})'\n",
        "               ''.format(roc_auc[\"micro\"]),\n",
        "         color='deeppink', linestyle=':', linewidth=4)\n",
        "\n",
        "plt.plot(fpr[\"macro\"], tpr[\"macro\"],\n",
        "         label='macro-average ROC curve (area = {0:0.2f})'\n",
        "               ''.format(roc_auc[\"macro\"]),\n",
        "         color='navy', linestyle=':', linewidth=4)\n",
        "\n",
        "colors = cycle(['aqua', 'darkorange', 'cornflowerblue'])\n",
        "for i, color in zip(range(n_classes), colors):\n",
        "    plt.plot(fpr[i], tpr[i], color=color, lw=lw,\n",
        "             label='ROC curve of class {0} (area = {1:0.2f})'\n",
        "             ''.format(i, roc_auc[i]))\n",
        "    \n",
        "plt.plot([0, 1], [0, 1], 'k--', lw=lw)\n",
        "plt.xlim([0.0, 1.0])\n",
        "plt.ylim([0.0, 1.05])\n",
        "plt.xlabel('False Positive Rate')\n",
        "plt.ylabel('True Positive Rate')\n",
        "plt.title('Extending the ROC Curve to Multi-Class')\n",
        "plt.legend(loc=\"lower right\")\n",
        "plt.show()"
      ],
      "execution_count": 78,
      "outputs": [
        {
          "output_type": "stream",
          "text": [
            "/usr/local/lib/python3.7/dist-packages/ipykernel_launcher.py:26: DeprecationWarning: scipy.interp is deprecated and will be removed in SciPy 2.0.0, use numpy.interp instead\n"
          ],
          "name": "stderr"
        },
        {
          "output_type": "display_data",
          "data": {
            "image/png": "[encoded data removed]",
            "text/plain": [
              "<Figure size 432x288 with 1 Axes>"
            ]
          },
          "metadata": {
            "tags": [],
            "needs_background": "light"
          }
        }
      ]
    },
    {
      "cell_type": "code",
      "metadata": {
        "id": "dt-eS76ZRODp"
      },
      "source": [
        ""
      ],
      "execution_count": null,
      "outputs": []
    }
  ]
}